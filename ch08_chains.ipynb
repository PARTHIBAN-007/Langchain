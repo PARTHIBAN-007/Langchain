{
 "cells": [
  {
   "cell_type": "markdown",
   "metadata": {},
   "source": [
    "# Chains in Langchain"
   ]
  },
  {
   "cell_type": "code",
   "execution_count": 14,
   "metadata": {},
   "outputs": [],
   "source": [
    "import os\n",
    "import google.generativeai as genai\n",
    "from dotenv import load_dotenv\n",
    "load_dotenv()\n",
    "import warnings\n",
    "warnings.filterwarnings(\"ignore\")\n",
    "GEMINI_API_KEY = os.getenv(\"GEMINI_API_KEY\")\n",
    "genai.configure(api_key=GEMINI_API_KEY)\n",
    "os.environ[\"GOOGLE_API_KEY\"] = GEMINI_API_KEY"
   ]
  },
  {
   "cell_type": "markdown",
   "metadata": {},
   "source": [
    "## LLM Chain"
   ]
  },
  {
   "cell_type": "code",
   "execution_count": 30,
   "metadata": {},
   "outputs": [
    {
     "name": "stdout",
     "output_type": "stream",
     "text": [
      "LLM Chain :  LangChain helps you easily build powerful applications using large language models.\n",
      "\n"
     ]
    }
   ],
   "source": [
    "from langchain.chains import LLMChain\n",
    "from langchain_google_genai import GoogleGenerativeAI\n",
    "from langchain.prompts import PromptTemplate\n",
    "\n",
    "llm = GoogleGenerativeAI(model =\"gemini-1.5-flash\")\n",
    "\n",
    "prompt = PromptTemplate(input_variables=[\"topic\"],template=\"Explain {topic} in single line with simpler terms\")\n",
    "\n",
    "chain = LLMChain(llm = llm , prompt = prompt)\n",
    "\n",
    "response = chain.run(\"Langchain\")\n",
    "print(\"LLM Chain : \",response)"
   ]
  },
  {
   "cell_type": "markdown",
   "metadata": {},
   "source": [
    "## Sequential Chain"
   ]
  },
  {
   "cell_type": "code",
   "execution_count": 27,
   "metadata": {},
   "outputs": [
    {
     "name": "stdout",
     "output_type": "stream",
     "text": [
      "Sequential Chain :  LangChain is a framework that simplifies building applications using large language models (LLMs).  It offers modular components for easier LLM interaction, context management, and data integration, letting developers focus on application logic instead of low-level LLM details.  This enables the creation of diverse applications like chatbots and question-answering systems.\n",
      "\n"
     ]
    }
   ],
   "source": [
    "from langchain.chains import SimpleSequentialChain\n",
    "\n",
    "first_prompt = PromptTemplate(input_variables=[\"Topic\"],template=\"Explain {Topic} in a paragraph\")\n",
    "second_prompt = PromptTemplate(input_variables=[\"Description\"],template=\"Summarize the following : {Description}\")\n",
    "\n",
    "chain1 = LLMChain(llm= llm , prompt = first_prompt)\n",
    "chain2 = LLMChain(llm = llm, prompt = second_prompt)\n",
    "\n",
    "sequential_chain = SimpleSequentialChain(chains = [chain1,chain2])\n",
    "\n",
    "response = sequential_chain.run(\"Langchain\")\n",
    "print(\"Sequential Chain : \",response)"
   ]
  },
  {
   "cell_type": "markdown",
   "metadata": {},
   "source": [
    "## Router Chain"
   ]
  },
  {
   "cell_type": "code",
   "execution_count": 26,
   "metadata": {},
   "outputs": [
    {
     "name": "stdout",
     "output_type": "stream",
     "text": [
      "Router Chain :  Agentic AI lets computers act independently to achieve goals, like a helpful robot assistant.  It's still early days, but it's a big step towards more capable and useful AI.\n",
      "\n"
     ]
    }
   ],
   "source": [
    "from langchain.chains.router import MultiPromptChain\n",
    "from langchain.prompts import PromptTemplate\n",
    "\n",
    "tech_prompt = PromptTemplate(template=\"Answer the technical query: {input}\", input_variables=[\"input\"])\n",
    "simple_prompt = PromptTemplate(template=\"Give a simple response to: {input}\", input_variables=[\"input\"])\n",
    "\n",
    "chain_tech = LLMChain(llm=llm, prompt=tech_prompt)\n",
    "chain_simple = LLMChain(llm=llm, prompt=simple_prompt)\n",
    "\n",
    "prompt_infos = [\n",
    "    {\"name\": \"Tech Chain\", \"description\": \"For Technical Queries\", \"prompt_template\": \"Answer the technical query: {input}\"},\n",
    "    {\"name\": \"Simple Chain\", \"description\": \"For Simple Queries\", \"prompt_template\": \"Give a simple response to: {input}\"}\n",
    "]\n",
    "\n",
    "router_chain = MultiPromptChain.from_prompts(\n",
    "    llm=llm,\n",
    "    prompt_infos=prompt_infos\n",
    ")\n",
    "\n",
    "response = router_chain.run(\"Agentic AI for beginners\")\n",
    "print(\"Router Chain : \",response)\n"
   ]
  },
  {
   "cell_type": "markdown",
   "metadata": {},
   "source": [
    "## ReAct Prompt"
   ]
  },
  {
   "cell_type": "code",
   "execution_count": 25,
   "metadata": {},
   "outputs": [
    {
     "name": "stdout",
     "output_type": "stream",
     "text": [
      "\n",
      "\n",
      "\u001b[1m> Entering new LLMChain chain...\u001b[0m\n",
      "Prompt after formatting:\n",
      "\u001b[32;1m\u001b[1;3mQuestion: How can we solve climate change?\n",
      "    \n",
      "    Let's approach this step by step:\n",
      "    1) First, let's analyze what we know\n",
      "    2) Then, determine what information we need\n",
      "    3) Finally, provide a solution\n",
      "    \n",
      "    Thought: Let's begin with step 1...\u001b[0m\n",
      "\n",
      "\u001b[1m> Finished chain.\u001b[0m\n",
      "ReAct Chain :  Okay, let's begin with step 1: **Analyzing what we know about climate change.**\n",
      "\n",
      "We know that:\n",
      "\n",
      "* **The Earth's climate is warming:**  This is evidenced by a significant increase in global average temperatures over the past century, primarily due to human activities.  Multiple independent lines of evidence confirm this, including rising sea levels, melting glaciers and ice sheets, and changes in precipitation patterns.\n",
      "\n",
      "* **The primary driver is the greenhouse effect:**  The burning of fossil fuels (coal, oil, and natural gas) releases greenhouse gases (GHGs) like carbon dioxide (CO2), methane (CH4), and nitrous oxide (N2O) into the atmosphere. These gases trap heat, leading to a warming planet.  Deforestation also contributes significantly by reducing the planet's capacity to absorb CO2.\n",
      "\n",
      "* **The consequences are severe and multifaceted:**  These include more frequent and intense heatwaves, droughts, floods, wildfires, sea-level rise, ocean acidification, disruptions to ecosystems and biodiversity, and increased risks of extreme weather events.  These impacts disproportionately affect vulnerable populations.\n",
      "\n",
      "* **Climate change is a global problem requiring international cooperation:**  The atmosphere is a shared resource, and the impacts of climate change are felt globally.  Addressing it effectively requires coordinated action from all nations.\n",
      "\n",
      "* **Technological solutions exist, but require widespread adoption:**  Renewable energy sources (solar, wind, hydro, geothermal), energy efficiency improvements, carbon capture and storage technologies, and sustainable land management practices are all available, but their widespread implementation faces economic, political, and social barriers.\n",
      "\n",
      "* **Behavioral changes are crucial:**  Individual actions, such as reducing energy consumption, adopting sustainable transportation, and changing dietary habits, can collectively contribute to significant emissions reductions.\n",
      "\n",
      "\n",
      "Now, let's move on to step 2: **Determining what information we need.**  To develop a comprehensive solution, we need more detailed information on:\n",
      "\n",
      "* **Precise future emissions scenarios:**  We need better models to predict future GHG emissions under different policy and technological pathways.\n",
      "* **Regional climate impacts:**  More precise projections of climate change impacts at regional and local levels are crucial for effective adaptation strategies.\n",
      "* **Economic costs and benefits of mitigation and adaptation:**  A thorough cost-benefit analysis of different climate action strategies is necessary for informed decision-making.\n",
      "* **Technological advancements:**  Further research and development are needed to improve the efficiency and cost-effectiveness of clean energy technologies and carbon removal methods.\n",
      "* **Social and political barriers to climate action:**  Understanding the underlying social, economic, and political factors hindering climate action is critical for developing effective strategies to overcome them.\n",
      "* **Effective communication and public engagement strategies:**  Building public support and understanding of climate change is essential for driving policy changes and individual action.\n",
      "\n",
      "\n",
      "Finally, we can move to step 3: **Providing a solution.** This will be addressed in a subsequent response, as it requires incorporating the information gathered in steps 1 and 2.\n",
      "\n"
     ]
    }
   ],
   "source": [
    "template = \"\"\"Question: {question}\n",
    "    \n",
    "    Let's approach this step by step:\n",
    "    1) First, let's analyze what we know\n",
    "    2) Then, determine what information we need\n",
    "    3) Finally, provide a solution\n",
    "    \n",
    "    Thought: Let's begin with step 1...\"\"\"\n",
    "\n",
    "react_prompt = PromptTemplate(\n",
    "    template=template,\n",
    "    input_variables=[\"question\"]\n",
    ")\n",
    "\n",
    "react_chain = LLMChain(\n",
    "    llm=llm,\n",
    "    prompt=react_prompt,\n",
    "    verbose=True\n",
    ")\n",
    "response = react_chain.run(question=\"How can we solve climate change?\")\n",
    "print(\"ReAct Chain : \",response)"
   ]
  },
  {
   "cell_type": "markdown",
   "metadata": {},
   "source": [
    "## Map  Reduce Chain"
   ]
  },
  {
   "cell_type": "code",
   "execution_count": 32,
   "metadata": {},
   "outputs": [
    {
     "name": "stdout",
     "output_type": "stream",
     "text": [
      "\n",
      "\n",
      "\u001b[1m> Entering new MapReduceDocumentsChain chain...\u001b[0m\n",
      "\n",
      "\n",
      "\u001b[1m> Entering new LLMChain chain...\u001b[0m\n",
      "Prompt after formatting:\n",
      "\u001b[32;1m\u001b[1;3mWrite a concise summary of the following:\n",
      "\n",
      "\n",
      "\"LangChain is a cutting-edge technology that enables the creation of more advanced and sophisticated language models. Here's a brief overview:\n",
      "\n",
      "What is LangChain?\n",
      "LangChain is an open-source framework that allows developers to build and train large language models using a modular, chain-like architecture. This approach enables the creation of more complex and nuanced language models that can better understand and respond to human input.\"\n",
      "\n",
      "\n",
      "CONCISE SUMMARY:\u001b[0m\n",
      "Prompt after formatting:\n",
      "\u001b[32;1m\u001b[1;3mWrite a concise summary of the following:\n",
      "\n",
      "\n",
      "\"Key Features\n",
      "1. Modular Architecture: LangChain's modular design allows developers to easily swap out or add new components to the language model, making it more flexible and adaptable.\n",
      "2. Chain-like Structure: The framework's chain-like structure enables the creation of more complex language models that can better capture the nuances of human language.\n",
      "3. Scalability: LangChain is designed to be highly scalable, making it possible to train large language models that can handle vast amounts of data.\n",
      "4. Customizability: The framework provides developers with a high degree of customizability, allowing them to fine-tune the language model to suit specific use cases.\"\n",
      "\n",
      "\n",
      "CONCISE SUMMARY:\u001b[0m\n",
      "Prompt after formatting:\n",
      "\u001b[32;1m\u001b[1;3mWrite a concise summary of the following:\n",
      "\n",
      "\n",
      "\"Applications\n",
      "1. Natural Language Processing (NLP): LangChain can be used to build more advanced NLP models that can better understand and respond to human input.\n",
      "2. Language Translation: The framework can be used to build more accurate and nuanced language translation models.\n",
      "3. Text Generation: LangChain can be used to build models that can generate coherent and context-specific text.\n",
      "4. Conversational AI: The framework can be used to build more sophisticated conversational AI models that can better understand and respond to human input.\n",
      "\n",
      "Benefits\n",
      "1. Improved Accuracy: LangChain's modular architecture and chain-like structure enable the creation of more accurate and nuanced language models.\n",
      "2. Increased Flexibility: The framework's customizability and scalability make it an ideal choice for a wide range of NLP applications.\n",
      "3. Enhanced Contextual Understanding: LangChain's ability to capture complex contextual relationships enables the creation of more sophisticated language models.\"\n",
      "\n",
      "\n",
      "CONCISE SUMMARY:\u001b[0m\n",
      "Prompt after formatting:\n",
      "\u001b[32;1m\u001b[1;3mWrite a concise summary of the following:\n",
      "\n",
      "\n",
      "\"Challenges\n",
      "1. Complexity: LangChain's modular architecture and chain-like structure can make it challenging to implement and train.\n",
      "2. Computational Resources: Training large language models using LangChain requires significant computational resources.\n",
      "3. Data Requirements: The framework requires large amounts of high-quality training data to build accurate language models.\n",
      "\n",
      "Overall, LangChain is a powerful tool for building more advanced and sophisticated language models. Its modular architecture, chain-like structure, and scalability make it an ideal choice for a wide range of NLP applications. However, its complexity, computational resource requirements, and data requirements can make it challenging to implement and train.\"\n",
      "\n",
      "\n",
      "CONCISE SUMMARY:\u001b[0m\n",
      "\n",
      "\u001b[1m> Finished chain.\u001b[0m\n",
      "\n",
      "\n",
      "\u001b[1m> Entering new LLMChain chain...\u001b[0m\n",
      "Prompt after formatting:\n",
      "\u001b[32;1m\u001b[1;3mWrite a concise summary of the following:\n",
      "\n",
      "\n",
      "\"LangChain is an open-source framework that uses a modular architecture to build more sophisticated and nuanced large language models.\n",
      "\n",
      "\n",
      "LangChain is a modular, scalable, and customizable framework for building complex, adaptable language models.  Its chain-like structure allows for nuanced processing of human language.\n",
      "\n",
      "\n",
      "LangChain is a framework for building advanced natural language processing (NLP) applications.  It offers improved accuracy, flexibility, and contextual understanding by enabling the creation of modular, chain-like language models for tasks like translation, text generation, and conversational AI.\n",
      "\n",
      "\n",
      "LangChain offers a powerful, scalable architecture for advanced language models, but requires significant computational resources, high-quality data, and expertise to implement and train effectively due to its complexity.\n",
      "\"\n",
      "\n",
      "\n",
      "CONCISE SUMMARY:\u001b[0m\n",
      "\n",
      "\u001b[1m> Finished chain.\u001b[0m\n",
      "\n",
      "\u001b[1m> Finished chain.\u001b[0m\n",
      "Map Reduce Chain: LangChain is an open-source framework for building sophisticated, modular language models.  While powerful and scalable, it requires significant resources and expertise.\n",
      "\n"
     ]
    }
   ],
   "source": [
    "from langchain.chains.summarize import load_summarize_chain\n",
    "from langchain.text_splitter import RecursiveCharacterTextSplitter\n",
    "\n",
    "document = \"\"\"LangChain is a cutting-edge technology that enables the creation of more advanced and sophisticated language models. Here's a brief overview:\n",
    "\n",
    "What is LangChain?\n",
    "LangChain is an open-source framework that allows developers to build and train large language models using a modular, chain-like architecture. This approach enables the creation of more complex and nuanced language models that can better understand and respond to human input.\n",
    "\n",
    "Key Features\n",
    "1. Modular Architecture: LangChain's modular design allows developers to easily swap out or add new components to the language model, making it more flexible and adaptable.\n",
    "2. Chain-like Structure: The framework's chain-like structure enables the creation of more complex language models that can better capture the nuances of human language.\n",
    "3. Scalability: LangChain is designed to be highly scalable, making it possible to train large language models that can handle vast amounts of data.\n",
    "4. Customizability: The framework provides developers with a high degree of customizability, allowing them to fine-tune the language model to suit specific use cases.\n",
    "\n",
    "Applications\n",
    "1. Natural Language Processing (NLP): LangChain can be used to build more advanced NLP models that can better understand and respond to human input.\n",
    "2. Language Translation: The framework can be used to build more accurate and nuanced language translation models.\n",
    "3. Text Generation: LangChain can be used to build models that can generate coherent and context-specific text.\n",
    "4. Conversational AI: The framework can be used to build more sophisticated conversational AI models that can better understand and respond to human input.\n",
    "\n",
    "Benefits\n",
    "1. Improved Accuracy: LangChain's modular architecture and chain-like structure enable the creation of more accurate and nuanced language models.\n",
    "2. Increased Flexibility: The framework's customizability and scalability make it an ideal choice for a wide range of NLP applications.\n",
    "3. Enhanced Contextual Understanding: LangChain's ability to capture complex contextual relationships enables the creation of more sophisticated language models.\n",
    "\n",
    "Challenges\n",
    "1. Complexity: LangChain's modular architecture and chain-like structure can make it challenging to implement and train.\n",
    "2. Computational Resources: Training large language models using LangChain requires significant computational resources.\n",
    "3. Data Requirements: The framework requires large amounts of high-quality training data to build accurate language models.\n",
    "\n",
    "Overall, LangChain is a powerful tool for building more advanced and sophisticated language models. Its modular architecture, chain-like structure, and scalability make it an ideal choice for a wide range of NLP applications. However, its complexity, computational resource requirements, and data requirements can make it challenging to implement and train.\"\"\"\n",
    "\n",
    "text_splitter = RecursiveCharacterTextSplitter(chunk_size=1000, chunk_overlap=100)\n",
    "\n",
    "docs = text_splitter.create_documents([document])\n",
    "\n",
    "map_reduce_chain = load_summarize_chain(llm, chain_type=\"map_reduce\", verbose=True)\n",
    "\n",
    "response = map_reduce_chain.run(docs)\n",
    "print(\"Map Reduce Chain:\", response)\n"
   ]
  },
  {
   "cell_type": "markdown",
   "metadata": {},
   "source": [
    "## Transform Chain"
   ]
  },
  {
   "cell_type": "code",
   "execution_count": 33,
   "metadata": {},
   "outputs": [
    {
     "name": "stdout",
     "output_type": "stream",
     "text": [
      "Transform Chain : {'text': 'This is a Sample Text with Mixed Case', 'processed_text': 'this is a sample text with mixed case', 'word_count': 8}\n"
     ]
    }
   ],
   "source": [
    "from langchain.chains import TransformChain\n",
    "\n",
    "def transform_func(inputs):\n",
    "    text = inputs[\"text\"]\n",
    "    transformed_text = text.strip().lower()\n",
    "    word_count = len(transformed_text.split())\n",
    "    return {\n",
    "        \"processed_text\": transformed_text,\n",
    "        \"word_count\": word_count\n",
    "    }\n",
    "\n",
    "transform_chain = TransformChain(\n",
    "    input_variables=[\"text\"],\n",
    "    output_variables=[\"processed_text\", \"word_count\"],\n",
    "    transform=transform_func\n",
    ")\n",
    "response = transform_chain.invoke({\"text\":\"This is a Sample Text with Mixed Case\"})\n",
    "print(\"Transform Chain :\", response)"
   ]
  },
  {
   "cell_type": "markdown",
   "metadata": {},
   "source": [
    "## Retrieval Chain"
   ]
  },
  {
   "cell_type": "code",
   "execution_count": 35,
   "metadata": {},
   "outputs": [
    {
     "name": "stdout",
     "output_type": "stream",
     "text": [
      "Conversational Retrieval Chain Result: Document 1 defines Artificial Intelligence (AI) as the simulation of human intelligence by machines.  It lists machine learning, natural language processing, and robotics as components of AI.  It also states that AI systems can learn from experience, adapt to new inputs, and perform human-like tasks.\n",
      "\n",
      "Follow-up Question Result: Document 2 describes Machine Learning as a subset of Artificial Intelligence.  It explains that machine learning uses statistical techniques to allow computers to learn from experience without explicit programming, and lists supervised learning, unsupervised learning, and reinforcement learning as common types.\n",
      "\n"
     ]
    }
   ],
   "source": [
    "from langchain.chains import ConversationalRetrievalChain\n",
    "from langchain.vectorstores import FAISS\n",
    "from langchain.text_splitter import CharacterTextSplitter\n",
    "from langchain.chains.conversation.memory import ConversationBufferMemory\n",
    "from langchain_google_genai import GoogleGenerativeAIEmbeddings\n",
    "\n",
    "embedding_model = GoogleGenerativeAIEmbeddings(model=\"models/embedding-001\")\n",
    "\n",
    "documents = [\n",
    "    \"\"\"Document 1 :Artificial Intelligence (AI) is the simulation of human intelligence by machines. \n",
    "    It includes machine learning, natural language processing, and robotics. \n",
    "    AI systems can learn from experience, adjust to new inputs, and perform human-like tasks.\"\"\",\n",
    "    \n",
    "    \"\"\"Document 2 : Machine Learning is a subset of AI that enables systems to learn and improve from experience. \n",
    "    It uses statistical techniques to allow computers to \"learn\" without being explicitly programmed. \n",
    "    Common types include supervised learning, unsupervised learning, and reinforcement learning.\"\"\",\n",
    "    \n",
    "    \"\"\"Document 3 :Deep Learning is a type of machine learning based on artificial neural networks. \n",
    "    It uses multiple layers to progressively extract higher-level features from raw input. \n",
    "    Deep learning has revolutionized computer vision, natural language processing, and speech recognition.\"\"\"\n",
    "]\n",
    "\n",
    "embeddings = GoogleGenerativeAIEmbeddings(model=\"models/embedding-001\")\n",
    "\n",
    "text_splitter = CharacterTextSplitter(chunk_size=1000, chunk_overlap=200)\n",
    "texts = text_splitter.create_documents(documents)\n",
    "vectorstore = FAISS.from_documents(texts, embeddings)\n",
    "\n",
    "from langchain.memory import ConversationBufferMemory\n",
    "\n",
    "memory = ConversationBufferMemory(memory_key=\"chat_history\", output_key=\"answer\", return_messages=True)\n",
    "\n",
    "conv_chain = ConversationalRetrievalChain.from_llm(\n",
    "    llm=llm,\n",
    "    retriever=vectorstore.as_retriever(search_kwargs={\"k\": 2}),\n",
    "    memory=memory,\n",
    "    return_source_documents=True  \n",
    ")\n",
    "\n",
    "\n",
    "result = conv_chain({\"question\": \"What information can you find about document 1?\"})\n",
    "print(\"Conversational Retrieval Chain Result:\", result['answer'])\n",
    "\n",
    "follow_up = conv_chain({\"question\": \"What about document 2?\"})\n",
    "print(\"Follow-up Question Result:\", follow_up['answer'])\n",
    "\n",
    "vectorstore.save_local(\"faiss_index\")\n"
   ]
  }
 ],
 "metadata": {
  "kernelspec": {
   "display_name": "base",
   "language": "python",
   "name": "python3"
  },
  "language_info": {
   "codemirror_mode": {
    "name": "ipython",
    "version": 3
   },
   "file_extension": ".py",
   "mimetype": "text/x-python",
   "name": "python",
   "nbconvert_exporter": "python",
   "pygments_lexer": "ipython3",
   "version": "3.12.4"
  }
 },
 "nbformat": 4,
 "nbformat_minor": 2
}
