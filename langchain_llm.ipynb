{
 "cells": [
  {
   "cell_type": "code",
   "execution_count": 19,
   "metadata": {},
   "outputs": [],
   "source": [
    "import os\n",
    "from dotenv import load_dotenv\n",
    "load_dotenv()\n",
    "import warnings\n",
    "warnings.filterwarnings(\"ignore\")\n",
    "gemini_api_key = os.getenv(\"GEMINI_API_KEY\")\n",
    "huggingface_api_key = os.getenv(\"HUGGINGFACE_API_KEY\")\n",
    "cohere_api_key = os.getenv(\"COHERE_API_KEY\")\n",
    "os.environ[\"GOOGLE_API_KEY\"] = gemini_api_key\n",
    "os.environ[\"HUGGINGFACE_API_KEY\"] = huggingface_api_key\n",
    "os.environ[\"COHERE_API_KEY\"] = cohere_api_key\n"
   ]
  },
  {
   "cell_type": "code",
   "execution_count": 13,
   "metadata": {},
   "outputs": [
    {
     "name": "stdout",
     "output_type": "stream",
     "text": [
      "LLM Response : LangChain is a framework for developing applications powered by large language models (LLMs), connecting LLMs to other sources of data and computation.\n",
      "\n"
     ]
    }
   ],
   "source": [
    "import google.generativeai as genai\n",
    "from langchain_google_genai import GoogleGenerativeAI\n",
    "\n",
    "genai.configure(api_key=gemini_api_key)\n",
    "\n",
    "llm = GoogleGenerativeAI(\n",
    "            model=\"gemini-1.5-flash\",\n",
    "            temperature=0.7,\n",
    "            max_output_tokens=2048\n",
    "        )\n",
    "\n",
    "\n",
    "response = llm.invoke(\"Explain what is LangChain in one sentence.\")\n",
    "print(\"LLM Response :\",response)"
   ]
  },
  {
   "cell_type": "code",
   "execution_count": 15,
   "metadata": {},
   "outputs": [
    {
     "name": "stdout",
     "output_type": "stream",
     "text": [
      "LLM Response : LangChain is a framework for developing applications powered by large language models (LLMs), connecting LLMs to other sources of data and computation.\n"
     ]
    }
   ],
   "source": [
    "from langchain_google_genai import ChatGoogleGenerativeAI\n",
    "from langchain.schema import HumanMessage\n",
    "\n",
    "gemini_model = ChatGoogleGenerativeAI(model=\"gemini-1.5-flash\")\n",
    "\n",
    "response = gemini_model.invoke([HumanMessage(content =\"Explain what is LangChain in one sentence\" )])\n",
    "\n",
    "print(\"LLM Response :\",response.content)"
   ]
  },
  {
   "cell_type": "code",
   "execution_count": 21,
   "metadata": {},
   "outputs": [
    {
     "name": "stdout",
     "output_type": "stream",
     "text": [
      " LangChain is a multilingual language model integration platform that enables developers to build applications with seamless multilingual capabilities. \n"
     ]
    }
   ],
   "source": [
    "from langchain_community.llms import Cohere\n",
    "\n",
    "cohere_model = Cohere(cohere_api_key=cohere_api_key, model=\"command\")\n",
    "\n",
    "response = cohere_model.invoke(\"Explain what is LangChain in one sentence\")\n",
    "print(response)\n"
   ]
  },
  {
   "cell_type": "code",
   "execution_count": 22,
   "metadata": {},
   "outputs": [
    {
     "name": "stdout",
     "output_type": "stream",
     "text": [
      "Explain what is LangChain in one sentence\n",
      "LangChain is a blockchain-based platform for learning and teaching languages.\n"
     ]
    }
   ],
   "source": [
    "from langchain_community.llms import HuggingFaceHub\n",
    "\n",
    "os.environ[\"HUGGINGFACEHUB_API_TOKEN\"] = huggingface_api_key\n",
    "\n",
    "hf_model = HuggingFaceHub(repo_id=\"tiiuae/falcon-7b-instruct\", model_kwargs={\"temperature\": 0.7})\n",
    "\n",
    "response = hf_model.invoke(\"Explain what is LangChain in one sentence\")\n",
    "\n",
    "print(response)\n"
   ]
  },
  {
   "cell_type": "code",
   "execution_count": null,
   "metadata": {},
   "outputs": [],
   "source": []
  }
 ],
 "metadata": {
  "kernelspec": {
   "display_name": "base",
   "language": "python",
   "name": "python3"
  },
  "language_info": {
   "codemirror_mode": {
    "name": "ipython",
    "version": 3
   },
   "file_extension": ".py",
   "mimetype": "text/x-python",
   "name": "python",
   "nbconvert_exporter": "python",
   "pygments_lexer": "ipython3",
   "version": "3.12.4"
  }
 },
 "nbformat": 4,
 "nbformat_minor": 2
}
