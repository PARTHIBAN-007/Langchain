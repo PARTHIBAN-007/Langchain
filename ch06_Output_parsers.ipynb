{
 "cells": [
  {
   "cell_type": "markdown",
   "metadata": {},
   "source": [
    "# Output Parsers"
   ]
  },
  {
   "cell_type": "code",
   "execution_count": 2,
   "metadata": {},
   "outputs": [],
   "source": [
    "import os\n",
    "from dotenv import load_dotenv\n",
    "load_dotenv()\n",
    "\n",
    "gemini_api_key = os.getenv(\"GEMINI_API_KEY\")\n",
    "os.environ[\"GOOGLE_API_KEY\"] = gemini_api_key"
   ]
  },
  {
   "cell_type": "code",
   "execution_count": 20,
   "metadata": {},
   "outputs": [
    {
     "data": {
      "text/plain": [
       "MCQGenerator(question='Which of the following is NOT a common application of Large Language Models (LLMs)?', answer='d', options=['a) Text generation', 'b) Machine translation', 'c) Chatbots and conversational AI', 'd) Predicting stock market prices with 100% accuracy'])"
      ]
     },
     "execution_count": 20,
     "metadata": {},
     "output_type": "execute_result"
    }
   ],
   "source": [
    "from pydantic import BaseModel\n",
    "from langchain.output_parsers import PydanticOutputParser\n",
    "from langchain_google_genai import GoogleGenerativeAI\n",
    "import google.generativeai as genai\n",
    "\n",
    "genai.configure(api_key=gemini_api_key)\n",
    "\n",
    "class MCQGenerator(BaseModel):\n",
    "    question : str\n",
    "    answer : str\n",
    "    options : list[str]\n",
    "\n",
    "parser = PydanticOutputParser(pydantic_object=MCQGenerator)\n",
    "\n",
    "prompt = \"\"\"\n",
    "Provide a structured JSON output with the following fields:\n",
    "- question\n",
    "- answer\n",
    "- options (a list of possible answers)\n",
    "Create an MCQ based on Large Language Models.\n",
    "\n",
    "Format it strictly as JSON.\n",
    "\"\"\"\n",
    "\n",
    "\n",
    "llm = GoogleGenerativeAI(\n",
    "    model = \"gemini-1.5-flash\",\n",
    "    temperature= 0.7 ,\n",
    ")\n",
    "\n",
    "response = llm.invoke(prompt)\n",
    "parsed_output = parser.parse(response)\n",
    "parsed_output"
   ]
  },
  {
   "cell_type": "code",
   "execution_count": null,
   "metadata": {},
   "outputs": [],
   "source": []
  }
 ],
 "metadata": {
  "kernelspec": {
   "display_name": "base",
   "language": "python",
   "name": "python3"
  },
  "language_info": {
   "codemirror_mode": {
    "name": "ipython",
    "version": 3
   },
   "file_extension": ".py",
   "mimetype": "text/x-python",
   "name": "python",
   "nbconvert_exporter": "python",
   "pygments_lexer": "ipython3",
   "version": "3.12.4"
  }
 },
 "nbformat": 4,
 "nbformat_minor": 2
}
